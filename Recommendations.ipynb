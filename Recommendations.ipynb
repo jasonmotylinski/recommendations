{
 "cells": [
  {
   "cell_type": "markdown",
   "metadata": {},
   "source": [
    "# Recommendations\n",
    "The following code reads in a list of purchase events and generates a simple "
   ]
  },
  {
   "cell_type": "code",
   "execution_count": 34,
   "metadata": {
    "collapsed": false
   },
   "outputs": [],
   "source": [
    "path = \"data.txt\"\n",
    "session = SparkSession.builder \\\n",
    "  .appName(\"spark session example\") \\\n",
    "  .getOrCreate()\n",
    "\n",
    "df = session.read.option(\"header\",\"true\").option(\"inferSchema\", \"true\").option(\"delimiter\", '|').csv(path)\n",
    "df.createOrReplaceTempView(\"events\")\n",
    "\n",
    "users_products = df.select(\"product_id\", \"user_id\").distinct()\n",
    "users_products.createOrReplaceTempView(\"users_products\")\n"
   ]
  },
  {
   "cell_type": "code",
   "execution_count": 111,
   "metadata": {
    "collapsed": false
   },
   "outputs": [],
   "source": [
    "recommendations = sqlContext.sql(\"SELECT users_products.product_id AS parent_product_id, \\\n",
    "                                  events.product_id AS related_product_id, \\\n",
    "                                  COUNT(*) AS count \\\n",
    "                                  FROM users_products INNER JOIN events on events.user_id = users_products.user_id \\\n",
    "                                  GROUP BY users_products.product_id,  events.product_id \\\n",
    "                                  HAVING COUNT(*) > 15\")"
   ]
  },
  {
   "cell_type": "code",
   "execution_count": 112,
   "metadata": {
    "collapsed": false
   },
   "outputs": [
    {
     "name": "stdout",
     "output_type": "stream",
     "text": [
      "+-----------------+------------------+-----+\n",
      "|parent_product_id|related_product_id|count|\n",
      "+-----------------+------------------+-----+\n",
      "|                3|                 1|   20|\n",
      "|                2|                 2|   18|\n",
      "|                8|                 9|   16|\n",
      "|                8|                 3|   16|\n",
      "|                5|                 6|   18|\n",
      "|                1|                 1|   28|\n",
      "|                1|                 3|   16|\n",
      "|                8|                10|   16|\n",
      "|               10|                 1|   18|\n",
      "|                3|                 3|   21|\n",
      "|                8|                 1|   18|\n",
      "|                8|                 8|   21|\n",
      "|                8|                 2|   17|\n",
      "|                9|                 5|   16|\n",
      "|                5|                 8|   16|\n",
      "|                5|                 1|   20|\n",
      "|                9|                 9|   19|\n",
      "|                7|                 7|   17|\n",
      "|                4|                 4|   16|\n",
      "|               10|                10|   19|\n",
      "+-----------------+------------------+-----+\n",
      "only showing top 20 rows\n",
      "\n"
     ]
    }
   ],
   "source": [
    "recommendations.show()"
   ]
  },
  {
   "cell_type": "code",
   "execution_count": 113,
   "metadata": {
    "collapsed": false
   },
   "outputs": [
    {
     "data": {
      "text/plain": [
       "[(1, [1, 3]),\n",
       " (2, [2]),\n",
       " (3, [1, 3]),\n",
       " (4, [4]),\n",
       " (5, [6, 8, 1, 5]),\n",
       " (6, [6]),\n",
       " (7, [7]),\n",
       " (8, [9, 3, 10, 1, 8, 2, 6]),\n",
       " (9, [5, 9, 6]),\n",
       " (10, [1, 10])]"
      ]
     },
     "execution_count": 113,
     "metadata": {},
     "output_type": "execute_result"
    }
   ],
   "source": [
    "recommendations.select(\"parent_product_id\", \"related_product_id\").rdd.groupByKey().map(lambda x: (x[0], list(x[1]))).collect()"
   ]
  },
  {
   "cell_type": "code",
   "execution_count": null,
   "metadata": {
    "collapsed": true
   },
   "outputs": [],
   "source": []
  }
 ],
 "metadata": {
  "kernelspec": {
   "display_name": "Python 2",
   "language": "python",
   "name": "python2"
  },
  "language_info": {
   "codemirror_mode": {
    "name": "ipython",
    "version": 2
   },
   "file_extension": ".py",
   "mimetype": "text/x-python",
   "name": "python",
   "nbconvert_exporter": "python",
   "pygments_lexer": "ipython2",
   "version": "2.7.10"
  }
 },
 "nbformat": 4,
 "nbformat_minor": 0
}
